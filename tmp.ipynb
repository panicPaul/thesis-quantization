{
 "cells": [
  {
   "cell_type": "code",
   "execution_count": null,
   "metadata": {},
   "outputs": [],
   "source": [
    "%load_ext autoreload\n",
    "%autoreload 2\n",
    "\n",
    "import torch\n",
    "import numpy as np"
   ]
  },
  {
   "cell_type": "code",
   "execution_count": null,
   "metadata": {},
   "outputs": [],
   "source": [
    "from thesis.config import load_config, GaussianSplattingSettings\n",
    "\n",
    "path = \"configs/single_frame.yml\"\n",
    "config = load_config(path)"
   ]
  },
  {
   "cell_type": "code",
   "execution_count": null,
   "metadata": {},
   "outputs": [],
   "source": [
    "from thesis.gaussian_splatting.initialize_splats import random_initialization\n",
    "\n",
    "random_initialization(10)"
   ]
  },
  {
   "cell_type": "code",
   "execution_count": null,
   "metadata": {},
   "outputs": [],
   "source": [
    "from torch_geometric.nn.pool import knn\n",
    "\n",
    "means = torch.tensor([[0, 0], [1, 0], [0, 2], [1, 1]], dtype=torch.float)\n",
    "sender, receiver = knn(means, means, k=4)\n",
    "sender = sender.reshape(-1, 4)[:, 1:].reshape(-1)  # Remove self\n",
    "receiver = receiver.reshape(-1, 4)[:, 1:].reshape(-1)"
   ]
  }
 ],
 "metadata": {
  "kernelspec": {
   "display_name": "thesis_quantization",
   "language": "python",
   "name": "python3"
  },
  "language_info": {
   "codemirror_mode": {
    "name": "ipython",
    "version": 3
   },
   "file_extension": ".py",
   "mimetype": "text/x-python",
   "name": "python",
   "nbconvert_exporter": "python",
   "pygments_lexer": "ipython3",
   "version": "3.11.9"
  }
 },
 "nbformat": 4,
 "nbformat_minor": 2
}
