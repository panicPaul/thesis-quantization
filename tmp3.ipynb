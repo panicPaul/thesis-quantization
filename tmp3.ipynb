{
 "cells": [
  {
   "cell_type": "code",
   "execution_count": null,
   "metadata": {},
   "outputs": [],
   "source": [
    "%load_ext autoreload\n",
    "%autoreload 2\n",
    "\n",
    "import numpy as np\n",
    "import torch"
   ]
  },
  {
   "cell_type": "code",
   "execution_count": null,
   "metadata": {},
   "outputs": [],
   "source": [
    "from thesis.data_management import SequenceManager\n",
    "from thesis.flame import FlameHead\n",
    "\n",
    "sm = SequenceManager(3)\n",
    "flame_parmas = sm.flame_params[0:1]\n",
    "flame_head = FlameHead()\n",
    "v = flame_head.forward(flame_parmas)\n",
    "v.shape"
   ]
  },
  {
   "cell_type": "code",
   "execution_count": null,
   "metadata": {},
   "outputs": [],
   "source": [
    "from thesis.code_talker.models.code_talker_config import QuantizerConfig, QuantizationTrainingConfig\n",
    "from thesis.code_talker.stage1_runner import Stage1Runner\n",
    "\n",
    "config = QuantizerConfig()\n",
    "training_config = QuantizationTrainingConfig()\n",
    "runner = Stage1Runner(config, training_config)"
   ]
  },
  {
   "cell_type": "code",
   "execution_count": null,
   "metadata": {},
   "outputs": [],
   "source": [
    "batch_size = 2\n",
    "time = 101\n",
    "input_dim = config.input_dim\n",
    "x = torch.randn(batch_size, time, input_dim)\n",
    "template = torch.randn(batch_size, input_dim)\n",
    "\n",
    "quant, emb_loss, info = runner.model.encode(x)\n",
    "print(quant.shape)  # (batch_size, z_quant_dim, time * face_qun) # (i.e. B, C, L*F)\n",
    "\n",
    "dec = runner.model.decode(quant)\n",
    "print(dec.shape)  # (batch_size, time, input_dim)\n"
   ]
  }
 ],
 "metadata": {
  "kernelspec": {
   "display_name": "thesis_quantization",
   "language": "python",
   "name": "python3"
  },
  "language_info": {
   "codemirror_mode": {
    "name": "ipython",
    "version": 3
   },
   "file_extension": ".py",
   "mimetype": "text/x-python",
   "name": "python",
   "nbconvert_exporter": "python",
   "pygments_lexer": "ipython3",
   "version": "3.11.9"
  }
 },
 "nbformat": 4,
 "nbformat_minor": 2
}
