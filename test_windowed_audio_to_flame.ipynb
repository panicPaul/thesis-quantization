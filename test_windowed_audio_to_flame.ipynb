{
 "cells": [
  {
   "cell_type": "code",
   "execution_count": null,
   "metadata": {},
   "outputs": [],
   "source": [
    "%load_ext autoreload\n",
    "%autoreload 2\n",
    "import numpy as np\n",
    "import torch"
   ]
  },
  {
   "cell_type": "code",
   "execution_count": null,
   "metadata": {},
   "outputs": [],
   "source": [
    "from thesis.constants import TEST_SEQUENCES, TRAIN_SEQUENCES\n",
    "from thesis.data_management import QuantizationDataset\n",
    "from torch.utils.data import DataLoader\n",
    "\n",
    "bach_size = 1\n",
    "num_train_workers = 0\n",
    "num_val_workers = 0\n",
    "window_size = 16  # 8 left, pred, 7 right\n",
    "train_set = QuantizationDataset(TRAIN_SEQUENCES, window_size=window_size)\n",
    "train_loader = DataLoader(\n",
    "    train_set,\n",
    "    batch_size=bach_size,\n",
    "    shuffle=True,\n",
    "    num_workers=num_train_workers,\n",
    ")\n",
    "val_set = QuantizationDataset(TEST_SEQUENCES, window_size=window_size)\n",
    "val_loader = DataLoader(\n",
    "    val_set,\n",
    "    batch_size=bach_size,\n",
    "    shuffle=True,\n",
    "    num_workers=num_val_workers,\n",
    ")"
   ]
  },
  {
   "cell_type": "code",
   "execution_count": null,
   "metadata": {},
   "outputs": [],
   "source": [
    "flame, _, audio_features = next(iter(train_loader))"
   ]
  },
  {
   "cell_type": "code",
   "execution_count": null,
   "metadata": {},
   "outputs": [],
   "source": [
    "from thesis.data_management import FlameParams\n",
    "\n",
    "flame = FlameParams(*flame)\n",
    "flame.expr.shape"
   ]
  },
  {
   "cell_type": "code",
   "execution_count": null,
   "metadata": {},
   "outputs": [],
   "source": [
    "%load_ext autoreload\n",
    "%autoreload 2"
   ]
  },
  {
   "cell_type": "code",
   "execution_count": null,
   "metadata": {},
   "outputs": [],
   "source": [
    "from thesis.audio_to_flame import AudioToFlame\n",
    "from thesis.audio_to_flame.windowed import prediction_loop\n",
    "\n",
    "ckpt_path = 'tb_logs/audio2flame/my_model/version_0/checkpoints/epoch=24-step=9375.ckpt'\n",
    "audio_path = 'tmp/test123.m4a'\n",
    "params = prediction_loop(ckpt_path, audio_path)"
   ]
  },
  {
   "cell_type": "code",
   "execution_count": null,
   "metadata": {},
   "outputs": [],
   "source": [
    "from thesis.flame.flame_visualization import _generate_image\n",
    "from thesis.flame import FlameHead\n",
    "import trimesh\n",
    "\n",
    "flame_head = FlameHead()\n",
    "img = _generate_image(params, flame_head, 1000, 1000, 50)"
   ]
  },
  {
   "cell_type": "code",
   "execution_count": null,
   "metadata": {},
   "outputs": [],
   "source": [
    "img.astype(np.uint8).shape"
   ]
  },
  {
   "cell_type": "code",
   "execution_count": null,
   "metadata": {},
   "outputs": [],
   "source": [
    "from thesis.data_management import SequenceManager\n",
    "\n",
    "sm = SequenceManager(sequence=100)\n",
    "sm.flame_params[:].shape.to('cuda')"
   ]
  },
  {
   "cell_type": "code",
   "execution_count": null,
   "metadata": {},
   "outputs": [],
   "source": []
  }
 ],
 "metadata": {
  "kernelspec": {
   "display_name": "thesis_quantization",
   "language": "python",
   "name": "python3"
  },
  "language_info": {
   "codemirror_mode": {
    "name": "ipython",
    "version": 3
   },
   "file_extension": ".py",
   "mimetype": "text/x-python",
   "name": "python",
   "nbconvert_exporter": "python",
   "pygments_lexer": "ipython3",
   "version": "3.10.15"
  }
 },
 "nbformat": 4,
 "nbformat_minor": 2
}
