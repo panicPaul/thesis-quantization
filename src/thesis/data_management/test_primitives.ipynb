{
 "cells": [
  {
   "cell_type": "code",
   "execution_count": null,
   "metadata": {},
   "outputs": [],
   "source": [
    "%load_ext autoreload\n",
    "%autoreload 2\n",
    "\n",
    "import os\n",
    "import numpy as np\n",
    "import torch\n",
    "\n",
    "if 'has_been_executed' not in locals():\n",
    "    print(\"Changing directory to the root of the project\")\n",
    "    os.chdir(\"../../../\")\n",
    "    has_been_executed = True\n",
    "else:\n",
    "    print(\"The directory is correct\")"
   ]
  },
  {
   "cell_type": "markdown",
   "metadata": {},
   "source": [
    "## Image Loader"
   ]
  },
  {
   "cell_type": "code",
   "execution_count": null,
   "metadata": {},
   "outputs": [],
   "source": [
    "from thesis.data_management.primitives_loader import ImageSequenceLoader\n",
    "from matplotlib import pyplot as plt\n",
    "\n",
    "images = ImageSequenceLoader(3, image_downsampling_factor=2.1)\n",
    "image = images[0:2, 3:4]\n",
    "print(image.shape)\n",
    "\n",
    "if image.ndim == 4:\n",
    "    image = image[0]\n",
    "elif image.ndim == 5:\n",
    "    image = image[0, 0]\n",
    "plt.imshow(image)\n",
    "plt.show()"
   ]
  },
  {
   "cell_type": "markdown",
   "metadata": {},
   "source": [
    "## Alpha Map Loader"
   ]
  },
  {
   "cell_type": "code",
   "execution_count": null,
   "metadata": {},
   "outputs": [],
   "source": [
    "from thesis.data_management.primitives_loader import AlphaMapSequenceLoader\n",
    "\n",
    "masks = AlphaMapSequenceLoader(3, image_downsampling_factor=1)\n",
    "mask = masks[1:2, 3:5]\n",
    "print(mask.shape)\n",
    "\n",
    "if mask.ndim == 3:\n",
    "    mask = mask[0]\n",
    "elif mask.ndim == 4:\n",
    "    mask = mask[0, 0]\n",
    "plt.imshow(mask)\n",
    "plt.show()"
   ]
  },
  {
   "cell_type": "markdown",
   "metadata": {},
   "source": [
    "## Segmentation Mask Loader"
   ]
  },
  {
   "cell_type": "code",
   "execution_count": null,
   "metadata": {},
   "outputs": [],
   "source": [
    "from thesis.data_management.primitives_loader import SegmentationMaskSequenceLoader\n",
    "\n",
    "images = SegmentationMaskSequenceLoader(3, image_downsampling_factor=1)\n",
    "image = images[0:2, 3:4]\n",
    "print(image.shape)\n",
    "\n",
    "if image.ndim == 4:\n",
    "    image = image[0]\n",
    "elif image.ndim == 5:\n",
    "    image = image[0, 0]\n",
    "plt.figure(figsize=(10, 10))\n",
    "plt.imshow(image)\n",
    "plt.show()"
   ]
  },
  {
   "cell_type": "markdown",
   "metadata": {},
   "source": [
    "## Flame Parameters"
   ]
  },
  {
   "cell_type": "code",
   "execution_count": null,
   "metadata": {},
   "outputs": [],
   "source": [
    "from thesis.data_management.primitives_loader import FlameParamsSequenceLoader\n",
    "\n",
    "flame_params = FlameParamsSequenceLoader(3)\n",
    "params = flame_params[0:1]\n",
    "params.shape.shape, params.expr.shape, params.jaw.shape"
   ]
  },
  {
   "cell_type": "code",
   "execution_count": null,
   "metadata": {},
   "outputs": [],
   "source": [
    "from thesis.data_management.primitives_loader import SE3TransformSequenceLoader\n",
    "\n",
    "transforms = SE3TransformSequenceLoader(3)\n",
    "transform = transforms[0:2]\n",
    "transform.rotation.shape, transform.translation.shape"
   ]
  },
  {
   "cell_type": "markdown",
   "metadata": {},
   "source": [
    "## Audio Features"
   ]
  },
  {
   "cell_type": "code",
   "execution_count": null,
   "metadata": {},
   "outputs": [],
   "source": [
    "from thesis.data_management.primitives_loader import AudioFeaturesSequenceLoader\n",
    "\n",
    "audio_features = AudioFeaturesSequenceLoader(3)\n",
    "audio = audio_features[0:1]\n",
    "audio.shape"
   ]
  }
 ],
 "metadata": {
  "kernelspec": {
   "display_name": "thesis_quantization",
   "language": "python",
   "name": "python3"
  },
  "language_info": {
   "codemirror_mode": {
    "name": "ipython",
    "version": 3
   },
   "file_extension": ".py",
   "mimetype": "text/x-python",
   "name": "python",
   "nbconvert_exporter": "python",
   "pygments_lexer": "ipython3",
   "version": "3.11.9"
  }
 },
 "nbformat": 4,
 "nbformat_minor": 2
}
