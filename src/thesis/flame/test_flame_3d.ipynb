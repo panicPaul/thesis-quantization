{
 "cells": [
  {
   "cell_type": "markdown",
   "metadata": {},
   "source": [
    "# FLAME 3D visualization"
   ]
  },
  {
   "cell_type": "code",
   "execution_count": null,
   "metadata": {},
   "outputs": [],
   "source": [
    "%load_ext autoreload\n",
    "%autoreload 2\n",
    "\n",
    "import os\n",
    "import numpy as np\n",
    "import torch\n",
    "\n",
    "if 'has_been_executed' not in locals():\n",
    "    print(\"Changing directory to the root of the project\")\n",
    "    os.chdir(\"../../../../\")\n",
    "    has_been_executed = True\n",
    "else:\n",
    "    print(\"The directory is correct\")"
   ]
  },
  {
   "cell_type": "code",
   "execution_count": null,
   "metadata": {},
   "outputs": [],
   "source": [
    "from thesis.datasets import get_data_loader\n",
    "from thesis.helpers import load_config\n",
    "\n",
    "config = load_config(\"configs/config.yaml\")\n",
    "data_loader = get_data_loader(\n",
    "    \"nersemble\",\n",
    "    \"SEN-01-cramp_small_danger\",\n",
    "    time_step=55,\n",
    "    batch_size=1,\n",
    "    data_keys=[\"image\", \"camera\", \"flame_params\"],\n",
    ")\n",
    "iterator = iter(data_loader)"
   ]
  },
  {
   "cell_type": "code",
   "execution_count": null,
   "metadata": {},
   "outputs": [],
   "source": [
    "from thesis.external.flame import FlameHead\n",
    "\n",
    "flame_head = FlameHead()\n",
    "flame_head = flame_head.to(\"cuda\")"
   ]
  },
  {
   "cell_type": "code",
   "execution_count": null,
   "metadata": {},
   "outputs": [],
   "source": [
    "try:\n",
    "    batch = next(iterator)\n",
    "except StopIteration:\n",
    "    iterator = iter(data_loader)\n",
    "    batch = next(iterator)"
   ]
  },
  {
   "cell_type": "code",
   "execution_count": null,
   "metadata": {},
   "outputs": [],
   "source": [
    "vertices = flame_head(**batch[\"flame_params\"])[0]\n",
    "faces = flame_head.faces\n",
    "vertices = vertices.cpu().detach().numpy()\n",
    "faces = faces.cpu().detach().numpy()\n",
    "# faces are (n, 3) shape, but they should be (n, 4) where the first element\n",
    "# is the number of vertices. Add threes to the faces.\n",
    "faces = np.hstack((np.ones((faces.shape[0], 1), dtype=np.int64) * 3, faces))"
   ]
  },
  {
   "cell_type": "code",
   "execution_count": null,
   "metadata": {},
   "outputs": [],
   "source": [
    "import pyvista as pv\n",
    "\n",
    "\n",
    "def render_mesh_offscreen(vertices, faces, image_size=(1024, 768)):\n",
    "    # Create a PyVista PolyData object\n",
    "    mesh = pv.PolyData(vertices, faces)\n",
    "    # Create a plotter for off-screen rendering\n",
    "    plotter = pv.Plotter(off_screen=True)\n",
    "    # Set the window size\n",
    "    plotter.window_size = image_size\n",
    "    # Add the mesh to the plotter\n",
    "    plotter.add_mesh(\n",
    "        mesh,\n",
    "        lighting=True,\n",
    "        smooth_shading=True,\n",
    "        show_edges=False,\n",
    "    )\n",
    "    # Render the image\n",
    "    image = plotter.screenshot(\n",
    "        transparent_background=True,\n",
    "        return_img=True,\n",
    "    )\n",
    "    # Close the plotter to free up memory\n",
    "    plotter.close()\n",
    "    return image\n",
    "\n",
    "\n",
    "# plot image\n",
    "image = render_mesh_offscreen(vertices, faces)\n",
    "import matplotlib.pyplot as plt\n",
    "\n",
    "plt.imshow(image)"
   ]
  }
 ],
 "metadata": {
  "kernelspec": {
   "display_name": "master_thesis",
   "language": "python",
   "name": "python3"
  },
  "language_info": {
   "codemirror_mode": {
    "name": "ipython",
    "version": 3
   },
   "file_extension": ".py",
   "mimetype": "text/x-python",
   "name": "python",
   "nbconvert_exporter": "python",
   "pygments_lexer": "ipython3",
   "version": "3.11.9"
  }
 },
 "nbformat": 4,
 "nbformat_minor": 2
}
