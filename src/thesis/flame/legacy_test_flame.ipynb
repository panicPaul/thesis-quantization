{
 "cells": [
  {
   "cell_type": "markdown",
   "metadata": {},
   "source": [
    "# FLAME Testing\n",
    "Test that the FLAME model works as expected."
   ]
  },
  {
   "cell_type": "code",
   "execution_count": null,
   "metadata": {},
   "outputs": [],
   "source": [
    "%load_ext autoreload\n",
    "%autoreload 2\n",
    "\n",
    "import os\n",
    "import numpy as np\n",
    "import torch\n",
    "\n",
    "if 'has_been_executed' not in locals():\n",
    "    print(\"Changing directory to the root of the project\")\n",
    "    os.chdir(\"../../../\")\n",
    "    has_been_executed = True\n",
    "else:\n",
    "    print(\"The directory is correct\")"
   ]
  },
  {
   "cell_type": "code",
   "execution_count": null,
   "metadata": {},
   "outputs": [],
   "source": [
    "from thesis.datasets import get_data_loader\n",
    "from thesis.helpers import load_config\n",
    "\n",
    "config = load_config(\"configs/config.yaml\")\n",
    "data_loader = get_data_loader(\n",
    "    \"nersemble\",\n",
    "    sequence=[3],\n",
    "    time_step=55,\n",
    "    batch_size=1,\n",
    "    data_keys=[\"images\", \"camera\", \"flame_params\"],\n",
    ")\n",
    "iterator = iter(data_loader)"
   ]
  },
  {
   "cell_type": "code",
   "execution_count": null,
   "metadata": {},
   "outputs": [],
   "source": [
    "from thesis.external.flame import FlameHead\n",
    "\n",
    "flame_head = FlameHead()\n",
    "flame_head = flame_head.to(\"cuda\")"
   ]
  },
  {
   "cell_type": "code",
   "execution_count": null,
   "metadata": {},
   "outputs": [],
   "source": [
    "from dreifus.render import project\n",
    "from jaxtyping import Float, UInt8\n",
    "from dreifus.matrix import Pose, Intrinsics\n",
    "from beartype import beartype\n",
    "\n",
    "\n",
    "@beartype\n",
    "def draw(\n",
    "    vertices: Float[torch.Tensor, \"1 num_vertices 3\"],\n",
    "    image: Float[torch.Tensor, \"1 H W 3\"],  # type: ignore\n",
    "    world_2_cam: Float[torch.Tensor, \"1 4 4\"],\n",
    "    intrinsics: Float[torch.Tensor, \"1 3 3\"],\n",
    "    overlay: bool = True,\n",
    ") -> UInt8[np.ndarray, \"H W 3\"]:\n",
    "    \"\"\"\n",
    "    Project the vertices to the image and draw them on the image.\n",
    "\n",
    "    Args:\n",
    "        vertices: The vertices to project.\n",
    "        image: The image to draw on.\n",
    "        world_2_cam: The world to camera transformation matrix.\n",
    "        intrinsics: The camera intrinsics.\n",
    "\n",
    "    Returns:\n",
    "        The image with the vertices drawn on it.\n",
    "    \"\"\"\n",
    "    vertices = vertices.squeeze(0).cpu().numpy()\n",
    "    image = image.squeeze(0).cpu().numpy()\n",
    "    world_2_cam = Pose(world_2_cam.squeeze(0).cpu().numpy())\n",
    "    intrinsics = Intrinsics(intrinsics.squeeze(0).cpu().numpy())\n",
    "\n",
    "    image = (image * 255).astype(np.uint8)\n",
    "    projected = project(vertices, world_2_cam, intrinsics)\n",
    "    projected_x = projected[:, 0].round().astype(int)\n",
    "    projected_y = projected[:, 1].round().astype(int)\n",
    "    valid_x = (0 <= projected_x) & (projected_x < image.shape[1])\n",
    "    valid_y = (0 <= projected_y) & (projected_y < image.shape[0])\n",
    "    valid_xy = valid_x & valid_y\n",
    "    print(\n",
    "        f\"{valid_xy.sum() / projected.shape[0] * 100:.1f}% of the vertices are visible\"\n",
    "        f\" i.e. {valid_xy.sum()} out of {projected.shape[0]}\\n\"\n",
    "    )\n",
    "    if not overlay:\n",
    "        image = np.zeros_like(image)\n",
    "\n",
    "    for y, x in zip(projected_y[valid_xy], projected_x[valid_xy]):\n",
    "        for i in range(-2, 2):\n",
    "            if not 0 <= y + i < image.shape[0]:\n",
    "                continue\n",
    "            for j in range(-2, 2):\n",
    "                if not 0 <= x + j < image.shape[1]:\n",
    "                    continue\n",
    "                image[y + i, x + j] = [255, 255, 255]\n",
    "\n",
    "    return image"
   ]
  },
  {
   "cell_type": "code",
   "execution_count": null,
   "metadata": {},
   "outputs": [],
   "source": [
    "import matplotlib.pyplot as plt\n",
    "from thesis.helpers import datum_to_device\n",
    "\n",
    "try:\n",
    "    batch = next(iterator)\n",
    "except StopIteration:\n",
    "    iterator = iter(data_loader)\n",
    "    batch = next(iterator)\n",
    "\n",
    "batch = datum_to_device(batch, \"cuda\")\n",
    "flame_params = batch[\"flame_params\"]\n",
    "vertices = flame_head.forward(**flame_params, apply_se3_transform=True)\n",
    "image = draw(\n",
    "    vertices=vertices,\n",
    "    image=batch[\"images\"],\n",
    "    world_2_cam=batch[\"camera\"][\"world_2_cam\"],\n",
    "    intrinsics=batch[\"camera\"][\"intrinsics\"],\n",
    "    overlay=True,\n",
    ")\n",
    "\n",
    "# Plot the image\n",
    "plt.figure(figsize=(10, 10))\n",
    "plt.imshow(image)\n",
    "plt.axis(\"off\")\n",
    "plt.show()\n",
    "\n",
    "# cam 0 is a bit suspicious"
   ]
  },
  {
   "cell_type": "code",
   "execution_count": null,
   "metadata": {},
   "outputs": [],
   "source": []
  }
 ],
 "metadata": {
  "kernelspec": {
   "display_name": "thesis_quantization",
   "language": "python",
   "name": "python3"
  },
  "language_info": {
   "codemirror_mode": {
    "name": "ipython",
    "version": 3
   },
   "file_extension": ".py",
   "mimetype": "text/x-python",
   "name": "python",
   "nbconvert_exporter": "python",
   "pygments_lexer": "ipython3",
   "version": "3.11.9"
  }
 },
 "nbformat": 4,
 "nbformat_minor": 2
}
