{
 "cells": [
  {
   "cell_type": "markdown",
   "metadata": {},
   "source": [
    "# FLAME Projection \n",
    "Test that the FLAME model projection is correct."
   ]
  },
  {
   "cell_type": "code",
   "execution_count": null,
   "metadata": {},
   "outputs": [],
   "source": [
    "%load_ext autoreload\n",
    "%autoreload 2\n",
    "\n",
    "import os\n",
    "import numpy as np\n",
    "import torch\n",
    "\n",
    "if 'has_been_executed' not in locals():\n",
    "    print(\"Changing directory to the root of the project\")\n",
    "    os.chdir(\"../../../\")\n",
    "    has_been_executed = True\n",
    "else:\n",
    "    print(\"The directory is correct\")"
   ]
  },
  {
   "cell_type": "code",
   "execution_count": null,
   "metadata": {},
   "outputs": [],
   "source": [
    "# Set up\n",
    "from thesis.data_management import SequenceManager, UnbatchedFlameParams, FlameParams\n",
    "from thesis.flame import FlameHead\n",
    "\n",
    "sm = SequenceManager(3, cameras=[0, 8, 15])\n",
    "flame_head = FlameHead().to(\"cuda\")"
   ]
  },
  {
   "cell_type": "code",
   "execution_count": null,
   "metadata": {},
   "outputs": [],
   "source": [
    "# projection drawing\n",
    "from dreifus.render import project\n",
    "from jaxtyping import Float, UInt8\n",
    "from dreifus.matrix import Pose, Intrinsics\n",
    "from beartype import beartype\n",
    "\n",
    "\n",
    "@beartype\n",
    "def draw(\n",
    "    vertices: Float[torch.Tensor, \"num_vertices 3\"],\n",
    "    image: Float[torch.Tensor, \"H W 3\"],\n",
    "    intrinsics: Float[torch.Tensor, \"3 3\"],\n",
    "    world_2_cam: Float[torch.Tensor, \"4 4\"],\n",
    "    overlay: bool = True,\n",
    ") -> UInt8[np.ndarray, \"H W 3\"]:\n",
    "    \"\"\"\n",
    "    Project the vertices to the image and draw them on the image.\n",
    "\n",
    "    Args:\n",
    "        vertices: The vertices to project.\n",
    "        image: The image to draw on.\n",
    "        world_2_cam: The world to camera transformation matrix.\n",
    "        intrinsics: The camera intrinsics.\n",
    "\n",
    "    Returns:\n",
    "        The image with the vertices drawn on it.\n",
    "    \"\"\"\n",
    "    vertices = vertices.cpu().numpy()\n",
    "    image = image.cpu().numpy()\n",
    "    intrinsics = Intrinsics(intrinsics.cpu().numpy())\n",
    "    world_2_cam = Pose(world_2_cam.cpu().numpy())\n",
    "\n",
    "    image = (image * 255).astype(np.uint8)\n",
    "    projected = project(vertices, world_2_cam, intrinsics)\n",
    "    projected_x = projected[:, 0].round().astype(int)\n",
    "    projected_y = projected[:, 1].round().astype(int)\n",
    "    valid_x = (0 <= projected_x) & (projected_x < image.shape[1])\n",
    "    valid_y = (0 <= projected_y) & (projected_y < image.shape[0])\n",
    "    valid_xy = valid_x & valid_y\n",
    "    print(f\"{valid_xy.sum() / projected.shape[0] * 100:.1f}% of the vertices are visible\"\n",
    "          f\" i.e. {valid_xy.sum()} out of {projected.shape[0]}\\n\")\n",
    "    if not overlay:\n",
    "        image = np.zeros_like(image)\n",
    "\n",
    "    for y, x in zip(projected_y[valid_xy], projected_x[valid_xy]):\n",
    "        for i in range(-2, 2):\n",
    "            if not 0 <= y + i < image.shape[0]:\n",
    "                continue\n",
    "            for j in range(-2, 2):\n",
    "                if not 0 <= x + j < image.shape[1]:\n",
    "                    continue\n",
    "                image[y + i, x + j] = [255, 255, 255]\n",
    "\n",
    "    return image"
   ]
  },
  {
   "cell_type": "code",
   "execution_count": null,
   "metadata": {},
   "outputs": [],
   "source": [
    "# get data\n",
    "from thesis.utils import datum_to_device, apply_se3_to_point\n",
    "import matplotlib.pyplot as plt\n",
    "\n",
    "#t = np.random.randint(0, len(sm))\n",
    "t = 95\n",
    "cam = 1\n",
    "params = sm.flame_params[t:t + 1]\n",
    "params = datum_to_device(params, \"cuda\")\n",
    "image = sm.images[t, cam].numpy()\n",
    "intrinsics, extrinsics, _ = sm.cameras\n",
    "extrinsics = extrinsics[cam]\n",
    "se3 = sm.se3_transforms[t]\n",
    "\n",
    "# get the vertices\n",
    "vertices = flame_head(params).squeeze(0).to(\"cpu\")\n",
    "vertices = apply_se3_to_point(*se3, vertices)\n",
    "\n",
    "# draw\n",
    "image = draw(vertices, torch.tensor(image), intrinsics, extrinsics, overlay=True)\n",
    "plt.figure(figsize=(12, 8))\n",
    "plt.imshow(image)\n",
    "plt.show()"
   ]
  },
  {
   "cell_type": "code",
   "execution_count": null,
   "metadata": {},
   "outputs": [],
   "source": [
    "# plot mesh\n",
    "import trimesh\n",
    "\n",
    "faces = flame_head.faces.cpu().numpy()\n",
    "\n",
    "mesh = trimesh.Trimesh(vertices=vertices, faces=faces)\n",
    "mesh.show()"
   ]
  },
  {
   "cell_type": "code",
   "execution_count": null,
   "metadata": {},
   "outputs": [],
   "source": []
  }
 ],
 "metadata": {
  "kernelspec": {
   "display_name": "thesis_quantization",
   "language": "python",
   "name": "python3"
  },
  "language_info": {
   "codemirror_mode": {
    "name": "ipython",
    "version": 3
   },
   "file_extension": ".py",
   "mimetype": "text/x-python",
   "name": "python",
   "nbconvert_exporter": "python",
   "pygments_lexer": "ipython3",
   "version": "3.11.9"
  }
 },
 "nbformat": 4,
 "nbformat_minor": 2
}
