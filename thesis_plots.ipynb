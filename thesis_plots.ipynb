{
 "cells": [
  {
   "cell_type": "code",
   "execution_count": 13,
   "metadata": {},
   "outputs": [
    {
     "name": "stdout",
     "output_type": "stream",
     "text": [
      "The autoreload extension is already loaded. To reload it, use:\n",
      "  %reload_ext autoreload\n"
     ]
    }
   ],
   "source": [
    "%load_ext autoreload\n",
    "%autoreload 2\n",
    "\n",
    "import numpy as np\n",
    "import torch\n",
    "\n",
    "experiment_names = [\n",
    "    'no_flame_prior', # 0\n",
    "    'just_flame_prior',  # 1\n",
    "    'just_flame_prior_inner_mouth',  # 2\n",
    "    'with_per_gaussian',  # 3\n",
    "    'with_color_mlp',  # 4\n",
    "    'with_color_mlp_2dgs',  # 5\n",
    "    'oversample',  # 6\n",
    "    'gaussian_avatars',  # baseline\n",
    "]"
   ]
  },
  {
   "cell_type": "code",
   "execution_count": 14,
   "metadata": {},
   "outputs": [],
   "source": [
    "from thesis.thesis_plots import load_experiment_results\n",
    "\n",
    "audio = False\n",
    "experiments = [-1, 1, 2, 3, 4, 5]\n",
    "sequences = list(range(80, 102))\n",
    "\n",
    "postfix = 'audio' if audio else 'flame'\n",
    "cur_experiments = [f'{experiment_names[i]}/{postfix}' for i in experiments]\n",
    "df, df_avg = load_experiment_results(cur_experiments, sequences)\n"
   ]
  },
  {
   "cell_type": "code",
   "execution_count": 18,
   "metadata": {},
   "outputs": [],
   "source": [
    "from thesis.thesis_plots import plot_metric\n",
    "\n",
    "plot_metric(df, df_avg, 'psnr', save_plot=True)"
   ]
  },
  {
   "cell_type": "code",
   "execution_count": null,
   "metadata": {},
   "outputs": [],
   "source": []
  }
 ],
 "metadata": {
  "kernelspec": {
   "display_name": "thesis_quantization",
   "language": "python",
   "name": "python3"
  },
  "language_info": {
   "codemirror_mode": {
    "name": "ipython",
    "version": 3
   },
   "file_extension": ".py",
   "mimetype": "text/x-python",
   "name": "python",
   "nbconvert_exporter": "python",
   "pygments_lexer": "ipython3",
   "version": "3.10.15"
  }
 },
 "nbformat": 4,
 "nbformat_minor": 2
}
